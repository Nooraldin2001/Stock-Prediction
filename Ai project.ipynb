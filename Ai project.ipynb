{
 "cells": [
  {
   "cell_type": "markdown",
   "id": "cdf43ccf",
   "metadata": {},
   "source": [
    "Predict Closing Stock Price For Apple Combany using the past 60 days stock price. \n",
    "using artificial neural network  (LSTM)"
   ]
  },
  {
   "cell_type": "code",
   "execution_count": 39,
   "id": "1437ae9d",
   "metadata": {},
   "outputs": [],
   "source": [
    "#Import the libraries \n",
    "import math\n",
    "import pandas as pd \n",
    "import pandas_datareader as web \n",
    "import numpy as np \n",
    "from sklearn.preprocessing import MinMaxScaler\n",
    "from keras.models import Sequential\n",
    "from keras.layers import Dense, LSTM\n",
    "import matplotlib.pyplot as plt \n",
    "plt.style.use('fivethirtyeight')\n",
    "from datetime import datetime\n",
    "from pandas_datareader import data as pdr\n",
    "import yfinance as yf\n",
    "import datetime as dt"
   ]
  },
  {
   "cell_type": "code",
   "execution_count": 40,
   "id": "90183599",
   "metadata": {},
   "outputs": [
    {
     "name": "stdout",
     "output_type": "stream",
     "text": [
      "[*********************100%***********************]  1 of 1 completed\n"
     ]
    },
    {
     "data": {
      "text/html": [
       "<div>\n",
       "<style scoped>\n",
       "    .dataframe tbody tr th:only-of-type {\n",
       "        vertical-align: middle;\n",
       "    }\n",
       "\n",
       "    .dataframe tbody tr th {\n",
       "        vertical-align: top;\n",
       "    }\n",
       "\n",
       "    .dataframe thead th {\n",
       "        text-align: right;\n",
       "    }\n",
       "</style>\n",
       "<table border=\"1\" class=\"dataframe\">\n",
       "  <thead>\n",
       "    <tr style=\"text-align: right;\">\n",
       "      <th></th>\n",
       "      <th>Open</th>\n",
       "      <th>High</th>\n",
       "      <th>Low</th>\n",
       "      <th>Close</th>\n",
       "      <th>Adj Close</th>\n",
       "      <th>Volume</th>\n",
       "    </tr>\n",
       "    <tr>\n",
       "      <th>Date</th>\n",
       "      <th></th>\n",
       "      <th></th>\n",
       "      <th></th>\n",
       "      <th></th>\n",
       "      <th></th>\n",
       "      <th></th>\n",
       "    </tr>\n",
       "  </thead>\n",
       "  <tbody>\n",
       "    <tr>\n",
       "      <th>2001-02-01</th>\n",
       "      <td>0.369420</td>\n",
       "      <td>0.383929</td>\n",
       "      <td>0.366071</td>\n",
       "      <td>0.377232</td>\n",
       "      <td>0.321559</td>\n",
       "      <td>369695200</td>\n",
       "    </tr>\n",
       "    <tr>\n",
       "      <th>2001-02-02</th>\n",
       "      <td>0.377232</td>\n",
       "      <td>0.391741</td>\n",
       "      <td>0.366071</td>\n",
       "      <td>0.368304</td>\n",
       "      <td>0.313949</td>\n",
       "      <td>427341600</td>\n",
       "    </tr>\n",
       "    <tr>\n",
       "      <th>2001-02-05</th>\n",
       "      <td>0.366071</td>\n",
       "      <td>0.367188</td>\n",
       "      <td>0.352679</td>\n",
       "      <td>0.360491</td>\n",
       "      <td>0.307289</td>\n",
       "      <td>286115200</td>\n",
       "    </tr>\n",
       "    <tr>\n",
       "      <th>2001-02-06</th>\n",
       "      <td>0.359933</td>\n",
       "      <td>0.381975</td>\n",
       "      <td>0.357143</td>\n",
       "      <td>0.377232</td>\n",
       "      <td>0.321559</td>\n",
       "      <td>462711200</td>\n",
       "    </tr>\n",
       "    <tr>\n",
       "      <th>2001-02-07</th>\n",
       "      <td>0.368862</td>\n",
       "      <td>0.372768</td>\n",
       "      <td>0.353795</td>\n",
       "      <td>0.370536</td>\n",
       "      <td>0.315851</td>\n",
       "      <td>393887200</td>\n",
       "    </tr>\n",
       "    <tr>\n",
       "      <th>...</th>\n",
       "      <td>...</td>\n",
       "      <td>...</td>\n",
       "      <td>...</td>\n",
       "      <td>...</td>\n",
       "      <td>...</td>\n",
       "      <td>...</td>\n",
       "    </tr>\n",
       "    <tr>\n",
       "      <th>2022-09-23</th>\n",
       "      <td>151.190002</td>\n",
       "      <td>151.470001</td>\n",
       "      <td>148.559998</td>\n",
       "      <td>150.429993</td>\n",
       "      <td>150.180862</td>\n",
       "      <td>96029900</td>\n",
       "    </tr>\n",
       "    <tr>\n",
       "      <th>2022-09-26</th>\n",
       "      <td>149.660004</td>\n",
       "      <td>153.770004</td>\n",
       "      <td>149.639999</td>\n",
       "      <td>150.770004</td>\n",
       "      <td>150.520309</td>\n",
       "      <td>93339400</td>\n",
       "    </tr>\n",
       "    <tr>\n",
       "      <th>2022-09-27</th>\n",
       "      <td>152.740005</td>\n",
       "      <td>154.720001</td>\n",
       "      <td>149.949997</td>\n",
       "      <td>151.759995</td>\n",
       "      <td>151.508667</td>\n",
       "      <td>84442700</td>\n",
       "    </tr>\n",
       "    <tr>\n",
       "      <th>2022-09-28</th>\n",
       "      <td>147.639999</td>\n",
       "      <td>150.639999</td>\n",
       "      <td>144.839996</td>\n",
       "      <td>149.839996</td>\n",
       "      <td>149.591843</td>\n",
       "      <td>146691400</td>\n",
       "    </tr>\n",
       "    <tr>\n",
       "      <th>2022-09-29</th>\n",
       "      <td>146.100006</td>\n",
       "      <td>146.720001</td>\n",
       "      <td>140.679993</td>\n",
       "      <td>142.479996</td>\n",
       "      <td>142.244034</td>\n",
       "      <td>128138200</td>\n",
       "    </tr>\n",
       "  </tbody>\n",
       "</table>\n",
       "<p>5450 rows × 6 columns</p>\n",
       "</div>"
      ],
      "text/plain": [
       "                  Open        High         Low       Close   Adj Close  \\\n",
       "Date                                                                     \n",
       "2001-02-01    0.369420    0.383929    0.366071    0.377232    0.321559   \n",
       "2001-02-02    0.377232    0.391741    0.366071    0.368304    0.313949   \n",
       "2001-02-05    0.366071    0.367188    0.352679    0.360491    0.307289   \n",
       "2001-02-06    0.359933    0.381975    0.357143    0.377232    0.321559   \n",
       "2001-02-07    0.368862    0.372768    0.353795    0.370536    0.315851   \n",
       "...                ...         ...         ...         ...         ...   \n",
       "2022-09-23  151.190002  151.470001  148.559998  150.429993  150.180862   \n",
       "2022-09-26  149.660004  153.770004  149.639999  150.770004  150.520309   \n",
       "2022-09-27  152.740005  154.720001  149.949997  151.759995  151.508667   \n",
       "2022-09-28  147.639999  150.639999  144.839996  149.839996  149.591843   \n",
       "2022-09-29  146.100006  146.720001  140.679993  142.479996  142.244034   \n",
       "\n",
       "               Volume  \n",
       "Date                   \n",
       "2001-02-01  369695200  \n",
       "2001-02-02  427341600  \n",
       "2001-02-05  286115200  \n",
       "2001-02-06  462711200  \n",
       "2001-02-07  393887200  \n",
       "...               ...  \n",
       "2022-09-23   96029900  \n",
       "2022-09-26   93339400  \n",
       "2022-09-27   84442700  \n",
       "2022-09-28  146691400  \n",
       "2022-09-29  128138200  \n",
       "\n",
       "[5450 rows x 6 columns]"
      ]
     },
     "execution_count": 40,
     "metadata": {},
     "output_type": "execute_result"
    }
   ],
   "source": [
    "#Get the stock quote \n",
    "yf.pdr_override()\n",
    "stockes = ['AAPL']\n",
    "start_date = dt.datetime(2001,2,1)\n",
    "end_date = dt.datetime(2022,9,30)\n",
    "df = pdr.get_data_yahoo(stockes, start=start_date, end=end_date)\n",
    "df"
   ]
  },
  {
   "cell_type": "code",
   "execution_count": 41,
   "id": "d361bd00",
   "metadata": {},
   "outputs": [
    {
     "name": "stdout",
     "output_type": "stream",
     "text": [
      "30.092173151715635 30.077391126046486 28.840332383633754\n"
     ]
    }
   ],
   "source": [
    "#get the number of rows and columns of the dataset \n",
    "df.shape \n",
    "x = np.average(df['Close'])\n",
    "y = np.average(df['Open'])\n",
    "z = np.average(df['Adj Close'])\n",
    "\n",
    "pie_Data = np.array([x,y,z])\n",
    "pie_labels = [\"Close\",\"Open\",\"Adj Close\"]\n",
    "print(x,y,z)"
   ]
  },
  {
   "cell_type": "code",
   "execution_count": 42,
   "id": "abade0c5",
   "metadata": {},
   "outputs": [
    {
     "data": {
      "image/png": "[encoded data removed]",
      "text/plain": [
       "<Figure size 1152x576 with 1 Axes>"
      ]
     },
     "metadata": {},
     "output_type": "display_data"
    }
   ],
   "source": [
    "plt.figure(figsize=(16,8))\n",
    "plt.pie(pie_Data, labels=pie_labels)\n",
    "plt.title('close and open price History')\n",
    "\n",
    "plt.legend()\n",
    "plt.show()"
   ]
  },
  {
   "cell_type": "code",
   "execution_count": 43,
   "id": "6df836ea",
   "metadata": {},
   "outputs": [
    {
     "data": {
      "image/png": "[encoded data removed]",
      "text/plain": [
       "<Figure size 1152x576 with 1 Axes>"
      ]
     },
     "metadata": {},
     "output_type": "display_data"
    }
   ],
   "source": [
    "#Visulize the closing price history(اعملهم جراف)\n",
    "plt.figure(figsize=(16,8))\n",
    "plt.title('close price History')\n",
    "plt.plot(df['Close'])\n",
    "plt.xlabel('Date', fontsize=20)\n",
    "plt.ylabel('Close Price USD ($)', fontsize=20)\n",
    "plt.show()\n",
    "#traaaaaaaaaa"
   ]
  },
  {
   "cell_type": "code",
   "execution_count": 44,
   "id": "5fa03283",
   "metadata": {},
   "outputs": [
    {
     "data": {
      "text/plain": [
       "4360"
      ]
     },
     "execution_count": 44,
     "metadata": {},
     "output_type": "execute_result"
    }
   ],
   "source": [
    "#Create a new dataframe with only the 'Closse' column\n",
    "data = df.filter(['Close'])\n",
    "#Convert the dataframe to a numpy array (هنحول الداتا فرام بتاعتنا لي اراي)\n",
    "dataset = data.values \n",
    "#Get the number of rows to train the model on (هنعمل فاريبل نعمل train للدادتا عليه و هنعمل train على 80% منه بس)\n",
    "#len: Return the number of items in a container \n",
    "training_data_len = int(math.ceil(len(dataset)) * .8)\n",
    "#that would give us only 80% and to round up we use ciel\n",
    "training_data_len \n",
    "#print the lenght of our training dataset"
   ]
  },
  {
   "cell_type": "code",
   "execution_count": 45,
   "id": "6bda3155",
   "metadata": {},
   "outputs": [
    {
     "data": {
      "text/plain": [
       "array([[7.86386647e-04],\n",
       "       [7.37271333e-04],\n",
       "       [6.94289755e-04],\n",
       "       ...,\n",
       "       [8.33586125e-01],\n",
       "       [8.23023668e-01],\n",
       "       [7.82534206e-01]])"
      ]
     },
     "execution_count": 45,
     "metadata": {},
     "output_type": "execute_result"
    }
   ],
   "source": [
    "#scale  the data (we use scaleing or normaliztion or pre-processing it's all a good practise to the input data before it's presented)\n",
    "#helps the model \n",
    "scaler = MinMaxScaler(feature_range=(0,1))\n",
    "#know let's transform the data between values 0 and 1 \n",
    "scaled_data = scaler.fit_transform(dataset)\n",
    "\n",
    "scaled_data"
   ]
  },
  {
   "cell_type": "code",
   "execution_count": 46,
   "id": "df5b19b0",
   "metadata": {},
   "outputs": [
    {
     "name": "stdout",
     "output_type": "stream",
     "text": [
      "[array([0.00078639, 0.00073727, 0.00069429, 0.00078639, 0.00074955,\n",
      "       0.00074955, 0.00058991, 0.00064517, 0.00058991, 0.00062675,\n",
      "       0.00068201, 0.00057763, 0.0005101 , 0.00056536, 0.00055922,\n",
      "       0.00055922, 0.00062675, 0.00061447, 0.00050396, 0.00055307,\n",
      "       0.00060219, 0.00071271, 0.00082323, 0.00079867, 0.00075569,\n",
      "       0.00070043, 0.00054079, 0.00063289, 0.00071885, 0.00064517,\n",
      "       0.00063903, 0.00073113, 0.00064517, 0.00068815, 0.00083551,\n",
      "       0.00097058, 0.00085074, 0.00095781, 0.00088905, 0.00092441,\n",
      "       0.00087922, 0.00083207, 0.00069945, 0.00062675, 0.00076134,\n",
      "       0.00073383, 0.00072892, 0.00087627, 0.0008527 , 0.0009136 ,\n",
      "       0.00081733, 0.00071517, 0.00094995, 0.00123779, 0.00117099,\n",
      "       0.00109338, 0.00107177, 0.00113955, 0.0011366 , 0.00128494])]\n",
      "[0.0012151954312594677]\n",
      "\n",
      "[array([0.00078639, 0.00073727, 0.00069429, 0.00078639, 0.00074955,\n",
      "       0.00074955, 0.00058991, 0.00064517, 0.00058991, 0.00062675,\n",
      "       0.00068201, 0.00057763, 0.0005101 , 0.00056536, 0.00055922,\n",
      "       0.00055922, 0.00062675, 0.00061447, 0.00050396, 0.00055307,\n",
      "       0.00060219, 0.00071271, 0.00082323, 0.00079867, 0.00075569,\n",
      "       0.00070043, 0.00054079, 0.00063289, 0.00071885, 0.00064517,\n",
      "       0.00063903, 0.00073113, 0.00064517, 0.00068815, 0.00083551,\n",
      "       0.00097058, 0.00085074, 0.00095781, 0.00088905, 0.00092441,\n",
      "       0.00087922, 0.00083207, 0.00069945, 0.00062675, 0.00076134,\n",
      "       0.00073383, 0.00072892, 0.00087627, 0.0008527 , 0.0009136 ,\n",
      "       0.00081733, 0.00071517, 0.00094995, 0.00123779, 0.00117099,\n",
      "       0.00109338, 0.00107177, 0.00113955, 0.0011366 , 0.00128494]), array([0.00073727, 0.00069429, 0.00078639, 0.00074955, 0.00074955,\n",
      "       0.00058991, 0.00064517, 0.00058991, 0.00062675, 0.00068201,\n",
      "       0.00057763, 0.0005101 , 0.00056536, 0.00055922, 0.00055922,\n",
      "       0.00062675, 0.00061447, 0.00050396, 0.00055307, 0.00060219,\n",
      "       0.00071271, 0.00082323, 0.00079867, 0.00075569, 0.00070043,\n",
      "       0.00054079, 0.00063289, 0.00071885, 0.00064517, 0.00063903,\n",
      "       0.00073113, 0.00064517, 0.00068815, 0.00083551, 0.00097058,\n",
      "       0.00085074, 0.00095781, 0.00088905, 0.00092441, 0.00087922,\n",
      "       0.00083207, 0.00069945, 0.00062675, 0.00076134, 0.00073383,\n",
      "       0.00072892, 0.00087627, 0.0008527 , 0.0009136 , 0.00081733,\n",
      "       0.00071517, 0.00094995, 0.00123779, 0.00117099, 0.00109338,\n",
      "       0.00107177, 0.00113955, 0.0011366 , 0.00128494, 0.0012152 ])]\n",
      "[0.0012151954312594677, 0.0012584190001932065]\n",
      "\n"
     ]
    }
   ],
   "source": [
    "#Create the training dataset \n",
    "#Crete the scaled trining data set \n",
    "train_data = scaled_data[0:training_data_len , : ]\n",
    "#هنا احنا عملنا فاريبل الفاريبل ده هيبداء ياخد داتا من اول 0 وال: دول معناهم ان لحد اخر الداتا\n",
    "\n",
    "#Split the data into x_train and y_train data sets \n",
    "x_train = [] #indepndent variables (input)\n",
    "y_train = [] #dependent variables or target (output)\n",
    "\n",
    "for i in range(60, len(train_data)):\n",
    "    x_train.append(train_data[i-60:i,0])# from 0 to 59\n",
    "    y_train.append(train_data[i,0])#60 first value that we want our model to predict\n",
    "    if i<= 61:\n",
    "        print(x_train)\n",
    "        print(y_train)\n",
    "        print()"
   ]
  },
  {
   "cell_type": "code",
   "execution_count": 47,
   "id": "092a2af8",
   "metadata": {},
   "outputs": [],
   "source": [
    "#Convert the x_train and y_trian to numpy arrays \n",
    "x_train, y_train = np.array(x_train), np.array(y_train)"
   ]
  },
  {
   "cell_type": "code",
   "execution_count": 48,
   "id": "f7c58ba2",
   "metadata": {},
   "outputs": [
    {
     "data": {
      "text/plain": [
       "(4300, 60, 1)"
      ]
     },
     "execution_count": 48,
     "metadata": {},
     "output_type": "execute_result"
    }
   ],
   "source": [
    "#Reshape the data\n",
    "#(LSTM expect the data to 3-dimentional shqpe)\n",
    "#x_train.shape[0] = number of samples(row in the dataset[2113]),x_train.shape[1]=time of step(at this case we will take 60 columns per step),1 = the number of fetures(the output the close price)\n",
    "x_train = np.reshape(x_train, (x_train.shape[0], x_train.shape[1],1))\n",
    "x_train.shape "
   ]
  },
  {
   "cell_type": "code",
   "execution_count": 49,
   "id": "6b0539dd",
   "metadata": {},
   "outputs": [],
   "source": [
    "#Build the LSTM model \n",
    "model = Sequential()\n",
    "#first layer in the model arctcture retur_seq = True because it wil had another layer and 50 is the number of neurens\n",
    "model.add(LSTM(50, return_sequences=True, input_shape=(x_train.shape[1], 1))) \n",
    "#2nd layer\n",
    "model.add(LSTM(50, return_sequences=False))\n",
    "model.add(Dense(25))\n",
    "#على الأغلب كل لاير من النيورنز اللي في الدينس بياخد input من الlayer اللي قبله \n",
    "model.add(Dense(1))"
   ]
  },
  {
   "cell_type": "code",
   "execution_count": 50,
   "id": "d468659c",
   "metadata": {},
   "outputs": [],
   "source": [
    "#Complie the model \n",
    "model.compile(optimizer='adam', loss='mean_squared_error')\n",
    "#adams optimizer is used to improve the loss function and the loss function is used to mesure how will the model did on training"
   ]
  },
  {
   "cell_type": "code",
   "execution_count": 51,
   "id": "6d19d0d5",
   "metadata": {},
   "outputs": [
    {
     "name": "stdout",
     "output_type": "stream",
     "text": [
      "Epoch 1/4\n",
      "4300/4300 [==============================] - 93s 21ms/step - loss: 7.1056e-05\n",
      "Epoch 2/4\n",
      "4300/4300 [==============================] - 91s 21ms/step - loss: 3.4870e-05\n",
      "Epoch 3/4\n",
      "4300/4300 [==============================] - 91s 21ms/step - loss: 1.8555e-05\n",
      "Epoch 4/4\n",
      "4300/4300 [==============================] - 90s 21ms/step - loss: 1.7566e-05\n"
     ]
    },
    {
     "data": {
      "text/plain": [
       "<keras.callbacks.History at 0x24e2678e7c0>"
      ]
     },
     "execution_count": 51,
     "metadata": {},
     "output_type": "execute_result"
    }
   ],
   "source": [
    "#Train the model \n",
    "#fit is another name for train \n",
    "#batch_size is the total number of training examples present is a single batch\n",
    "#epoches is the number of iterations on the entire dataset\n",
    "model.fit(x_train, y_train, batch_size=1, epochs=4)"
   ]
  },
  {
   "cell_type": "code",
   "execution_count": 52,
   "id": "9ed1413d",
   "metadata": {},
   "outputs": [],
   "source": [
    "#Create the testing data set \n",
    "#Create a new array containing scaled values from index 1543 to 2003\n",
    "test_data = scaled_data[training_data_len - 60: , :] #all the columns\n",
    "#Create the data sets x_test and y_test\n",
    "#y_test well be all the values that we want our model to predict \n",
    "x_test = []\n",
    "y_test = dataset[training_data_len:, :]\n",
    "for i in range(60, len(test_data)):\n",
    "    x_test.append(test_data[i-60:i,0])"
   ]
  },
  {
   "cell_type": "code",
   "execution_count": 53,
   "id": "69a6ba1b",
   "metadata": {},
   "outputs": [],
   "source": [
    "#Convert the data to a numoy array \n",
    "x_test = np.array(x_test)"
   ]
  },
  {
   "cell_type": "code",
   "execution_count": 54,
   "id": "cf5b49ee",
   "metadata": {},
   "outputs": [
    {
     "data": {
      "text/plain": [
       "(1090, 60, 1)"
      ]
     },
     "execution_count": 54,
     "metadata": {},
     "output_type": "execute_result"
    }
   ],
   "source": [
    "#Reshape the data \n",
    "x_test = np.reshape(x_test, (x_test.shape[0], x_test.shape[1], 1 ))\n",
    "x_test.shape"
   ]
  },
  {
   "cell_type": "code",
   "execution_count": 55,
   "id": "9d157055",
   "metadata": {},
   "outputs": [
    {
     "name": "stdout",
     "output_type": "stream",
     "text": [
      "35/35 [==============================] - 1s 12ms/step\n"
     ]
    }
   ],
   "source": [
    "#Get the models predicted price values\n",
    "#we want predictions to have the same values of y_test data set based of x_test dataset\n",
    "predictions = model.predict(x_test)\n",
    "predictions = scaler.inverse_transform(predictions)"
   ]
  },
  {
   "cell_type": "code",
   "execution_count": 56,
   "id": "c976fc41",
   "metadata": {},
   "outputs": [
    {
     "data": {
      "text/plain": [
       "0.7552143236912718"
      ]
     },
     "execution_count": 56,
     "metadata": {},
     "output_type": "execute_result"
    }
   ],
   "source": [
    "#Get the root mean squared error (RMSE) it is used for evalute the model \n",
    "#the lower the (RMSE) indicates a better fit \n",
    "rmse = np.sqrt(np.mean(predictions - y_test)**2)\n",
    "rmse"
   ]
  },
  {
   "cell_type": "code",
   "execution_count": 57,
   "id": "8e75f71a",
   "metadata": {},
   "outputs": [
    {
     "name": "stderr",
     "output_type": "stream",
     "text": [
      "C:\\Users\\nooro\\AppData\\Local\\Temp/ipykernel_11476/2132234147.py:4: SettingWithCopyWarning: \n",
      "A value is trying to be set on a copy of a slice from a DataFrame.\n",
      "Try using .loc[row_indexer,col_indexer] = value instead\n",
      "\n",
      "See the caveats in the documentation: https://pandas.pydata.org/pandas-docs/stable/user_guide/indexing.html#returning-a-view-versus-a-copy\n",
      "  valid['Predictions'] = predictions\n"
     ]
    },
    {
     "data": {
      "image/png": "[encoded data removed]",
      "text/plain": [
       "<Figure size 1152x576 with 1 Axes>"
      ]
     },
     "metadata": {},
     "output_type": "display_data"
    }
   ],
   "source": [
    "#Plot the data \n",
    "train = data[:training_data_len]\n",
    "valid = data[training_data_len:]\n",
    "valid['Predictions'] = predictions\n",
    "#Visualize the data \n",
    "plt.figure(figsize=(16,8))\n",
    "plt.title('Modle')\n",
    "plt.xlabel('Date', fontsize=20)\n",
    "plt.ylabel('Close Price USD ($)', fontsize=20)\n",
    "plt.plot(train['Close'])\n",
    "plt.plot(valid[['Close', 'Predictions']])\n",
    "plt.legend(['Train','Val','Predictions'], loc='lower right')\n",
    "plt.show()"
   ]
  },
  {
   "cell_type": "code",
   "execution_count": 58,
   "id": "478bed01",
   "metadata": {},
   "outputs": [],
   "source": [
    "#the blue up there is the 80% of data that the model was trained on \n",
    "#the Val is the actual values for the rest of these days \n",
    "#the orange is our predictions "
   ]
  },
  {
   "cell_type": "code",
   "execution_count": 59,
   "id": "067dcb23",
   "metadata": {},
   "outputs": [
    {
     "data": {
      "text/html": [
       "<div>\n",
       "<style scoped>\n",
       "    .dataframe tbody tr th:only-of-type {\n",
       "        vertical-align: middle;\n",
       "    }\n",
       "\n",
       "    .dataframe tbody tr th {\n",
       "        vertical-align: top;\n",
       "    }\n",
       "\n",
       "    .dataframe thead th {\n",
       "        text-align: right;\n",
       "    }\n",
       "</style>\n",
       "<table border=\"1\" class=\"dataframe\">\n",
       "  <thead>\n",
       "    <tr style=\"text-align: right;\">\n",
       "      <th></th>\n",
       "      <th>Close</th>\n",
       "      <th>Predictions</th>\n",
       "    </tr>\n",
       "    <tr>\n",
       "      <th>Date</th>\n",
       "      <th></th>\n",
       "      <th></th>\n",
       "    </tr>\n",
       "  </thead>\n",
       "  <tbody>\n",
       "    <tr>\n",
       "      <th>2018-06-04</th>\n",
       "      <td>47.957500</td>\n",
       "      <td>48.482796</td>\n",
       "    </tr>\n",
       "    <tr>\n",
       "      <th>2018-06-05</th>\n",
       "      <td>48.327499</td>\n",
       "      <td>48.953045</td>\n",
       "    </tr>\n",
       "    <tr>\n",
       "      <th>2018-06-06</th>\n",
       "      <td>48.494999</td>\n",
       "      <td>49.315289</td>\n",
       "    </tr>\n",
       "    <tr>\n",
       "      <th>2018-06-07</th>\n",
       "      <td>48.365002</td>\n",
       "      <td>49.469486</td>\n",
       "    </tr>\n",
       "    <tr>\n",
       "      <th>2018-06-08</th>\n",
       "      <td>47.924999</td>\n",
       "      <td>49.332066</td>\n",
       "    </tr>\n",
       "    <tr>\n",
       "      <th>...</th>\n",
       "      <td>...</td>\n",
       "      <td>...</td>\n",
       "    </tr>\n",
       "    <tr>\n",
       "      <th>2022-09-23</th>\n",
       "      <td>150.429993</td>\n",
       "      <td>149.516647</td>\n",
       "    </tr>\n",
       "    <tr>\n",
       "      <th>2022-09-26</th>\n",
       "      <td>150.770004</td>\n",
       "      <td>147.205887</td>\n",
       "    </tr>\n",
       "    <tr>\n",
       "      <th>2022-09-27</th>\n",
       "      <td>151.759995</td>\n",
       "      <td>147.703140</td>\n",
       "    </tr>\n",
       "    <tr>\n",
       "      <th>2022-09-28</th>\n",
       "      <td>149.839996</td>\n",
       "      <td>149.000961</td>\n",
       "    </tr>\n",
       "    <tr>\n",
       "      <th>2022-09-29</th>\n",
       "      <td>142.479996</td>\n",
       "      <td>147.128220</td>\n",
       "    </tr>\n",
       "  </tbody>\n",
       "</table>\n",
       "<p>1090 rows × 2 columns</p>\n",
       "</div>"
      ],
      "text/plain": [
       "                 Close  Predictions\n",
       "Date                               \n",
       "2018-06-04   47.957500    48.482796\n",
       "2018-06-05   48.327499    48.953045\n",
       "2018-06-06   48.494999    49.315289\n",
       "2018-06-07   48.365002    49.469486\n",
       "2018-06-08   47.924999    49.332066\n",
       "...                ...          ...\n",
       "2022-09-23  150.429993   149.516647\n",
       "2022-09-26  150.770004   147.205887\n",
       "2022-09-27  151.759995   147.703140\n",
       "2022-09-28  149.839996   149.000961\n",
       "2022-09-29  142.479996   147.128220\n",
       "\n",
       "[1090 rows x 2 columns]"
      ]
     },
     "execution_count": 59,
     "metadata": {},
     "output_type": "execute_result"
    }
   ],
   "source": [
    "#Show the valid and the predicted prices \n",
    "valid "
   ]
  },
  {
   "cell_type": "code",
   "execution_count": 60,
   "id": "99108213",
   "metadata": {},
   "outputs": [
    {
     "name": "stdout",
     "output_type": "stream",
     "text": [
      "[*********************100%***********************]  1 of 1 completed\n",
      "1/1 [==============================] - 0s 31ms/step\n",
      "[[139.49007]]\n"
     ]
    }
   ],
   "source": [
    "#Get the quote (هنجيب الداتا و نحسب البردكشنز عليها بنفس المودل بس لي 01-09-2022)\n",
    "apple_Stock = pdr.get_data_yahoo(stockes, start=start_date, end=end_date)\n",
    "#Create a new dataframe\n",
    "new_df = apple_Stock.filter(['Close'])\n",
    "#Get the last 60 day closing price values and convert the dataframe to an array\n",
    "Last_60_Days = new_df[-60:].values\n",
    "#Scale the data to be to be values between 0 and 1 \n",
    "Last_60_Days_scaled = scaler.transform(Last_60_Days)# we are useing fit transform because we want to the same amount minmax that we use first\n",
    "#Create an empty list \n",
    "x_test = []\n",
    "#Append the past 60 days to x_test \n",
    "x_test.append(Last_60_Days_scaled)\n",
    "#Convert the x_test to np array \n",
    "x_test = np.array(x_test)\n",
    "#Reshape the data \n",
    "x_test = np.reshape(x_test,(x_test.shape[0], x_test.shape[1], 1))\n",
    "#GET predicted scale price \n",
    "predict_price = model.predict(x_test)\n",
    "#undo the scaling to see the real number\n",
    "predict_price = scaler.inverse_transform(predict_price)\n",
    "print(predict_price)"
   ]
  },
  {
   "cell_type": "code",
   "execution_count": 61,
   "id": "e48e8127",
   "metadata": {},
   "outputs": [
    {
     "name": "stdout",
     "output_type": "stream",
     "text": [
      "[*********************100%***********************]  1 of 1 completed\n",
      "Date\n",
      "2001-02-01      0.377232\n",
      "2001-02-02      0.368304\n",
      "2001-02-05      0.360491\n",
      "2001-02-06      0.377232\n",
      "2001-02-07      0.370536\n",
      "                 ...    \n",
      "2022-09-23    150.429993\n",
      "2022-09-26    150.770004\n",
      "2022-09-27    151.759995\n",
      "2022-09-28    149.839996\n",
      "2022-09-29    142.479996\n",
      "Name: Close, Length: 5450, dtype: float64\n"
     ]
    }
   ],
   "source": [
    "#134.28238 this is the predicted price for 02/09 and real price was, 2022-09-02    155.809998\n",
    "apple_Stock2 = pdr.get_data_yahoo(stockes, start=start_date, end=end_date)\n",
    "print(apple_Stock2['Close'])"
   ]
  },
  {
   "cell_type": "code",
   "execution_count": null,
   "id": "fd76dfe0",
   "metadata": {},
   "outputs": [],
   "source": []
  },
  {
   "cell_type": "code",
   "execution_count": null,
   "id": "4011f251",
   "metadata": {},
   "outputs": [],
   "source": []
  },
  {
   "cell_type": "code",
   "execution_count": null,
   "id": "11fb0dbe",
   "metadata": {},
   "outputs": [],
   "source": []
  }
 ],
 "metadata": {
  "kernelspec": {
   "display_name": "Python 3 (ipykernel)",
   "language": "python",
   "name": "python3"
  },
  "language_info": {
   "codemirror_mode": {
    "name": "ipython",
    "version": 3
   },
   "file_extension": ".py",
   "mimetype": "text/x-python",
   "name": "python",
   "nbconvert_exporter": "python",
   "pygments_lexer": "ipython3",
   "version": "3.9.7"
  }
 },
 "nbformat": 4,
 "nbformat_minor": 5
}
